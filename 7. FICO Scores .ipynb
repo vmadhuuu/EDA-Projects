{
 "cells": [
  {
   "cell_type": "markdown",
   "id": "b8e8cf11",
   "metadata": {},
   "source": [
    "#### Importing necessary libraries"
   ]
  },
  {
   "cell_type": "code",
   "execution_count": 61,
   "id": "f93d06bb",
   "metadata": {},
   "outputs": [],
   "source": [
    "import numpy as np\n",
    "import pandas as pd\n",
    "import seaborn as sns\n",
    "import matplotlib.pyplot as plt"
   ]
  },
  {
   "cell_type": "markdown",
   "id": "0d8e1397",
   "metadata": {},
   "source": [
    "#### Reading the dataset and displaying the first few records"
   ]
  },
  {
   "cell_type": "code",
   "execution_count": 62,
   "id": "6ea7ca89",
   "metadata": {},
   "outputs": [
    {
     "data": {
      "text/html": [
       "<div>\n",
       "<style scoped>\n",
       "    .dataframe tbody tr th:only-of-type {\n",
       "        vertical-align: middle;\n",
       "    }\n",
       "\n",
       "    .dataframe tbody tr th {\n",
       "        vertical-align: top;\n",
       "    }\n",
       "\n",
       "    .dataframe thead th {\n",
       "        text-align: right;\n",
       "    }\n",
       "</style>\n",
       "<table border=\"1\" class=\"dataframe\">\n",
       "  <thead>\n",
       "    <tr style=\"text-align: right;\">\n",
       "      <th></th>\n",
       "      <th>acct_id</th>\n",
       "      <th>FICO</th>\n",
       "    </tr>\n",
       "  </thead>\n",
       "  <tbody>\n",
       "    <tr>\n",
       "      <th>0</th>\n",
       "      <td>1</td>\n",
       "      <td>768</td>\n",
       "    </tr>\n",
       "    <tr>\n",
       "      <th>1</th>\n",
       "      <td>2</td>\n",
       "      <td>850</td>\n",
       "    </tr>\n",
       "    <tr>\n",
       "      <th>2</th>\n",
       "      <td>3</td>\n",
       "      <td>677</td>\n",
       "    </tr>\n",
       "    <tr>\n",
       "      <th>3</th>\n",
       "      <td>4</td>\n",
       "      <td>843</td>\n",
       "    </tr>\n",
       "    <tr>\n",
       "      <th>4</th>\n",
       "      <td>5</td>\n",
       "      <td>796</td>\n",
       "    </tr>\n",
       "  </tbody>\n",
       "</table>\n",
       "</div>"
      ],
      "text/plain": [
       "   acct_id FICO\n",
       "0        1  768\n",
       "1        2  850\n",
       "2        3  677\n",
       "3        4  843\n",
       "4        5  796"
      ]
     },
     "execution_count": 62,
     "metadata": {},
     "output_type": "execute_result"
    }
   ],
   "source": [
    "df_fico = pd.read_csv(r'C:\\Users\\Madhumitha\\Desktop\\fico.csv')\n",
    "df_fico.head()"
   ]
  },
  {
   "cell_type": "markdown",
   "id": "453c837d",
   "metadata": {},
   "source": [
    "#### Retrieving the number of rows and columns in the dataset"
   ]
  },
  {
   "cell_type": "code",
   "execution_count": 63,
   "id": "4bfe1f80",
   "metadata": {},
   "outputs": [
    {
     "data": {
      "text/plain": [
       "(100013, 2)"
      ]
     },
     "execution_count": 63,
     "metadata": {},
     "output_type": "execute_result"
    }
   ],
   "source": [
    "df_fico.shape"
   ]
  },
  {
   "cell_type": "markdown",
   "id": "74a5ed71",
   "metadata": {},
   "source": [
    "This dataset has 100013 rows and 2 columns."
   ]
  },
  {
   "cell_type": "markdown",
   "id": "d7e906e3",
   "metadata": {},
   "source": [
    "#### Retreiving the non-null count and data type of each column"
   ]
  },
  {
   "cell_type": "code",
   "execution_count": 64,
   "id": "3b7d44cd",
   "metadata": {},
   "outputs": [
    {
     "name": "stdout",
     "output_type": "stream",
     "text": [
      "<class 'pandas.core.frame.DataFrame'>\n",
      "RangeIndex: 100013 entries, 0 to 100012\n",
      "Data columns (total 2 columns):\n",
      " #   Column   Non-Null Count   Dtype \n",
      "---  ------   --------------   ----- \n",
      " 0   acct_id  100013 non-null  int64 \n",
      " 1   FICO     70398 non-null   object\n",
      "dtypes: int64(1), object(1)\n",
      "memory usage: 1.5+ MB\n"
     ]
    }
   ],
   "source": [
    "df_fico.info()"
   ]
  },
  {
   "cell_type": "markdown",
   "id": "9a70b409",
   "metadata": {},
   "source": [
    "#### Retrieving the number of null values. \n"
   ]
  },
  {
   "cell_type": "code",
   "execution_count": 65,
   "id": "9eebf6dd",
   "metadata": {},
   "outputs": [
    {
     "data": {
      "text/plain": [
       "acct_id        0\n",
       "FICO       29615\n",
       "dtype: int64"
      ]
     },
     "execution_count": 65,
     "metadata": {},
     "output_type": "execute_result"
    }
   ],
   "source": [
    "df_fico.isnull().sum()"
   ]
  },
  {
   "cell_type": "markdown",
   "id": "4431a12d",
   "metadata": {},
   "source": [
    "There are 29615 missing values!"
   ]
  },
  {
   "cell_type": "markdown",
   "id": "dbeb2f6e",
   "metadata": {},
   "source": [
    "## TASK 1. You are tasked to explore the FICO dataset. Walk us through your process on the tasks below:\n",
    "### 1) You need to think about cleaning the data first. Common data problems include duplicates, missing, and errors in the data. Mark rows with data problems as “Missing” in the FICO column.\n"
   ]
  },
  {
   "cell_type": "markdown",
   "id": "4e489368",
   "metadata": {},
   "source": [
    "#### Now I'm replacing the missing values with 'Missing'. "
   ]
  },
  {
   "cell_type": "code",
   "execution_count": 66,
   "id": "1e981a1d",
   "metadata": {},
   "outputs": [
    {
     "data": {
      "text/plain": [
       "acct_id    0\n",
       "FICO       0\n",
       "dtype: int64"
      ]
     },
     "execution_count": 66,
     "metadata": {},
     "output_type": "execute_result"
    }
   ],
   "source": [
    "df_fico.fillna('Missing', inplace = True)\n",
    "df_fico['FICO'] = np.where(df_fico['FICO'].str.isalpha(), 'Missing',df_fico['FICO'])\n",
    "\n",
    "df_fico.isnull().sum()"
   ]
  },
  {
   "cell_type": "markdown",
   "id": "abe9569d",
   "metadata": {},
   "source": [
    "We don't have missing values anymore!"
   ]
  },
  {
   "cell_type": "code",
   "execution_count": 67,
   "id": "2b2f519e",
   "metadata": {},
   "outputs": [
    {
     "data": {
      "text/html": [
       "<div>\n",
       "<style scoped>\n",
       "    .dataframe tbody tr th:only-of-type {\n",
       "        vertical-align: middle;\n",
       "    }\n",
       "\n",
       "    .dataframe tbody tr th {\n",
       "        vertical-align: top;\n",
       "    }\n",
       "\n",
       "    .dataframe thead th {\n",
       "        text-align: right;\n",
       "    }\n",
       "</style>\n",
       "<table border=\"1\" class=\"dataframe\">\n",
       "  <thead>\n",
       "    <tr style=\"text-align: right;\">\n",
       "      <th></th>\n",
       "      <th>acct_id</th>\n",
       "      <th>FICO</th>\n",
       "    </tr>\n",
       "  </thead>\n",
       "  <tbody>\n",
       "  </tbody>\n",
       "</table>\n",
       "</div>"
      ],
      "text/plain": [
       "Empty DataFrame\n",
       "Columns: [acct_id, FICO]\n",
       "Index: []"
      ]
     },
     "execution_count": 67,
     "metadata": {},
     "output_type": "execute_result"
    }
   ],
   "source": [
    "df_fico[(df_fico.FICO.str.isalpha()) & (df_fico.FICO != \"Missing\")]"
   ]
  },
  {
   "cell_type": "code",
   "execution_count": 68,
   "id": "fe094d05",
   "metadata": {},
   "outputs": [],
   "source": [
    "# df_fico.drop(df_fico.index[[133, 100011]], inplace = True)\n"
   ]
  },
  {
   "cell_type": "markdown",
   "id": "55be7c9d",
   "metadata": {},
   "source": [
    "#### Checking the data types of the columns"
   ]
  },
  {
   "cell_type": "code",
   "execution_count": 70,
   "id": "8eab90c3",
   "metadata": {},
   "outputs": [
    {
     "name": "stdout",
     "output_type": "stream",
     "text": [
      "<class 'pandas.core.frame.DataFrame'>\n",
      "RangeIndex: 100013 entries, 0 to 100012\n",
      "Data columns (total 2 columns):\n",
      " #   Column   Non-Null Count   Dtype \n",
      "---  ------   --------------   ----- \n",
      " 0   acct_id  100013 non-null  int64 \n",
      " 1   FICO     100013 non-null  object\n",
      "dtypes: int64(1), object(1)\n",
      "memory usage: 1.5+ MB\n"
     ]
    }
   ],
   "source": [
    "df_fico.info()"
   ]
  },
  {
   "cell_type": "code",
   "execution_count": 71,
   "id": "956169e3",
   "metadata": {},
   "outputs": [
    {
     "data": {
      "text/plain": [
       "0             768\n",
       "1             850\n",
       "2             677\n",
       "3             843\n",
       "4             796\n",
       "           ...   \n",
       "100008    Missing\n",
       "100009    Missing\n",
       "100010    Missing\n",
       "100011    Missing\n",
       "100012    Missing\n",
       "Name: FICO, Length: 100013, dtype: object"
      ]
     },
     "execution_count": 71,
     "metadata": {},
     "output_type": "execute_result"
    }
   ],
   "source": [
    "df_fico['FICO']"
   ]
  },
  {
   "cell_type": "markdown",
   "id": "9397fb52",
   "metadata": {},
   "source": [
    "### 2) Think about what you know about credit score. Segment the FICO scores into 5 groups. Give your reasoning for the bucketing. Display the number of customers and percentage of each segments in your answer, and create a histogram of the distribution if you are using Python.\n"
   ]
  },
  {
   "cell_type": "code",
   "execution_count": 72,
   "id": "eb4420fd",
   "metadata": {},
   "outputs": [],
   "source": [
    "# conditions = [\n",
    "#     df_fico['FICO'] == \"Missing\",\n",
    "#     (~(df_fico.FICO.str.isalpha()) < 580),\n",
    "#     (df_fico['FICO'].astype(str).astype(int)) > 579 & (df_fico['FICO'].astype(str).astype(int) <= 670),\n",
    "#     (df_fico['FICO'].astype(str).astype(int) > 670) & (df_fico['FICO'].astype(str).astype(int) <= 740),\n",
    "#     (df_fico['FICO'].astype(str).astype(int) > 740) & (df_fico['FICO'].astype(str).astype(int) <= 800),\n",
    "#     (df_fico['FICO'].astype(str).astype(int) > 800),\n",
    "#     ]\n",
    "\n",
    "# # create a list of the values we want to assign for each condition\n",
    "# values = ['Missing','Poor', 'Average', 'Good', 'Very Good', 'Exceptional']\n",
    "\n",
    "# # create a new column and use np.select to assign values to it using our lists as arguments\n",
    "# df['fico_score'] = np.select(conditions, values)\n",
    "\n",
    "# # display updated DataFrame\n",
    "# df.head()\n"
   ]
  },
  {
   "cell_type": "markdown",
   "id": "d9930088",
   "metadata": {},
   "source": [
    "2) Think about what you know about credit score. Segment the FICO scores into 5 groups. Give your reasoning for the bucketing. Display the number of customers and percentage of each segments in your answer, and create a histogram of the distribution if you are using Python.\n"
   ]
  },
  {
   "cell_type": "markdown",
   "id": "a09c0747",
   "metadata": {},
   "source": [
    "#### Now, I am segmenting the FICO score credit into 5 categories of ratings. According to a resource on the Internet, score credits can be classfied into 5 categories as it helps lenders determine how likely we are to repay a loan.\n",
    "(https://www.myfico.com/credit-education/what-is-a-fico-score#:~:text=A%20FICO%20Score%20is%20a,are%20to%20repay%20a%20loan.&text=It%20measures%20how%20long%20you,you've%20paid%20on%20time.)\n",
    "\n",
    "In general, many lenders find scores above 670 as indicating good creditworthiness. Typically, the higher the score, the lower the risk and the more likely creditors are to lend.\n",
    "\n",
    "<580 indicates that the score is well below the average score of U.S. consumers and demonstrates to lenders that you are a risky borrower.\n",
    "\n",
    "580-669\tindicates that the score is below the average score of U.S. consumers, though many lenders will approve loans with this score.\n",
    "\n",
    "670-739\tindicates that the score is near or slightly above the average of U.S. consumers and most lenders consider this a good score.\n",
    "\n",
    "740-799\tindicates that the score is above the average of U.S. consumers and demonstrates to lenders that you are a very dependable borrower.\n",
    "\n",
    "800+ indicates that the score is well above the average score of U.S. consumers and clearly demonstrates to lenders that you are an exceptional borrower."
   ]
  },
  {
   "cell_type": "code",
   "execution_count": 73,
   "id": "0cd729a0",
   "metadata": {},
   "outputs": [],
   "source": [
    "def flag_df(df_fico):\n",
    "    if df_fico['FICO'] == 'Missing':\n",
    "        return 'Missing'\n",
    "#         print('Misssing')\n",
    "#         df_fico['fico_score_rating'] = 'Missing'\n",
    "    elif int(df_fico['FICO'] ) < 580:\n",
    "        return 'Poor'\n",
    "#         print(\"580\")\n",
    "#         df_fico['fico_score_rating'] = 'Poor'\n",
    "    elif  ((int(df_fico['FICO'] ) >= 580) & (int(df_fico['FICO'] ) < 670)):\n",
    "        return 'Average'\n",
    "#         print(\"670\")\n",
    "#         df_fico['fico_score_rating'] = 'Average'\n",
    "    elif  ((int(df_fico['FICO'] ) >= 670) & (int(df_fico['FICO'] ) < 740)):\n",
    "        return 'Good'\n",
    "#         print(\"740\")\n",
    "#         df_fico['fico_score_rating'] = 'Good'\n",
    "    elif  ((int(df_fico['FICO'] ) >= 740) & (int(df_fico['FICO'] ) < 800)):\n",
    "        return 'Very Good'\n",
    "#         print(\"800\")\n",
    "#         df_fico['fico_score_rating'] = 'Very Good'\n",
    "    elif  (int(df_fico['FICO'] ) >= 800):\n",
    "        return 'Exceptional'\n",
    "#         print(\">800\")\n",
    "#         df_fico['fico_score_rating'] = 'Exceptional'\n"
   ]
  },
  {
   "cell_type": "code",
   "execution_count": 74,
   "id": "fa929745",
   "metadata": {},
   "outputs": [],
   "source": [
    "#applying the function to the dataset\n",
    "df_fico['fico_score_rating'] = df_fico.apply(flag_df, axis = 1)\n"
   ]
  },
  {
   "cell_type": "code",
   "execution_count": 75,
   "id": "6858c9a0",
   "metadata": {},
   "outputs": [
    {
     "data": {
      "text/html": [
       "<div>\n",
       "<style scoped>\n",
       "    .dataframe tbody tr th:only-of-type {\n",
       "        vertical-align: middle;\n",
       "    }\n",
       "\n",
       "    .dataframe tbody tr th {\n",
       "        vertical-align: top;\n",
       "    }\n",
       "\n",
       "    .dataframe thead th {\n",
       "        text-align: right;\n",
       "    }\n",
       "</style>\n",
       "<table border=\"1\" class=\"dataframe\">\n",
       "  <thead>\n",
       "    <tr style=\"text-align: right;\">\n",
       "      <th></th>\n",
       "      <th>acct_id</th>\n",
       "      <th>FICO</th>\n",
       "      <th>fico_score_rating</th>\n",
       "    </tr>\n",
       "  </thead>\n",
       "  <tbody>\n",
       "    <tr>\n",
       "      <th>0</th>\n",
       "      <td>1</td>\n",
       "      <td>768</td>\n",
       "      <td>Very Good</td>\n",
       "    </tr>\n",
       "    <tr>\n",
       "      <th>1</th>\n",
       "      <td>2</td>\n",
       "      <td>850</td>\n",
       "      <td>Exceptional</td>\n",
       "    </tr>\n",
       "    <tr>\n",
       "      <th>2</th>\n",
       "      <td>3</td>\n",
       "      <td>677</td>\n",
       "      <td>Good</td>\n",
       "    </tr>\n",
       "    <tr>\n",
       "      <th>3</th>\n",
       "      <td>4</td>\n",
       "      <td>843</td>\n",
       "      <td>Exceptional</td>\n",
       "    </tr>\n",
       "    <tr>\n",
       "      <th>4</th>\n",
       "      <td>5</td>\n",
       "      <td>796</td>\n",
       "      <td>Very Good</td>\n",
       "    </tr>\n",
       "  </tbody>\n",
       "</table>\n",
       "</div>"
      ],
      "text/plain": [
       "   acct_id FICO fico_score_rating\n",
       "0        1  768         Very Good\n",
       "1        2  850       Exceptional\n",
       "2        3  677              Good\n",
       "3        4  843       Exceptional\n",
       "4        5  796         Very Good"
      ]
     },
     "execution_count": 75,
     "metadata": {},
     "output_type": "execute_result"
    }
   ],
   "source": [
    "df_fico.head()"
   ]
  },
  {
   "cell_type": "markdown",
   "id": "8efdd098",
   "metadata": {},
   "source": [
    "#### Histogram Visualization with Percentage Value"
   ]
  },
  {
   "cell_type": "code",
   "execution_count": 90,
   "id": "93146de6",
   "metadata": {},
   "outputs": [
    {
     "data": {
      "image/png": "[encoded data removed]",
      "text/plain": [
       "<Figure size 864x576 with 1 Axes>"
      ]
     },
     "metadata": {
      "needs_background": "light"
     },
     "output_type": "display_data"
    }
   ],
   "source": [
    "plt.figure(figsize = (12,8))\n",
    "ax = sns.histplot(x = df_fico['fico_score_rating'])\n",
    "plt.title(\"Percentage of customers per Score Rating Division\", fontsize = 15)\n",
    "\n",
    "#placing the percentage value in the histogram\n",
    "total = float(len(df_fico))\n",
    "for p in ax.patches:\n",
    "    height = p.get_height()\n",
    "    ax.text(p.get_x()+p.get_width()/2.,height + 3, '{:.2%}'.format(height/total), ha=\"center\") \n",
    "plt.show()"
   ]
  },
  {
   "cell_type": "code",
   "execution_count": 77,
   "id": "0fa5c41f",
   "metadata": {},
   "outputs": [
    {
     "name": "stdout",
     "output_type": "stream",
     "text": [
      "Number of customers per score rating:\n"
     ]
    },
    {
     "data": {
      "text/plain": [
       "Exceptional    36933\n",
       "Missing        29617\n",
       "Very Good      18333\n",
       "Good           10979\n",
       "Average         3398\n",
       "Poor             753\n",
       "Name: fico_score_rating, dtype: int64"
      ]
     },
     "execution_count": 77,
     "metadata": {},
     "output_type": "execute_result"
    }
   ],
   "source": [
    "print(\"Number of customers per score rating:\")\n",
    "df_fico.fico_score_rating.value_counts()"
   ]
  },
  {
   "cell_type": "markdown",
   "id": "db26c658",
   "metadata": {},
   "source": [
    "### 3) Do you notice anything particular about this distribution? Do you think this reflects what’s happening in the real world?\n"
   ]
  },
  {
   "cell_type": "markdown",
   "id": "950a48fb",
   "metadata": {},
   "source": [
    "The percentage distribution seems to be in a descending fashion according to the rating scale, which tells us that majority cusomters have high creditworthiness. These derived results seem to indicate that more than half of the customers seem to have a rating of 800+ which indicates that they are most likely to repay their loan and hence can help them lower chances of having a high loan interest. Less than 1000 customers have a score of Poor which depicts that creditors are least likely to lend to them. "
   ]
  },
  {
   "cell_type": "markdown",
   "id": "afabfaba",
   "metadata": {},
   "source": [
    "## TASK 2: Now that you have a clean dataset for FICO. Create a temp table to store the information of FICO score and region for each customer. Make sure the customer id is the same for each record. Display the regions which have the second highest and lowest average FICO score. The result of your query should display only two rows showing the region and its average FICO score. Make sure you provide all the interim steps if needed in your final submission.\n"
   ]
  },
  {
   "cell_type": "code",
   "execution_count": 78,
   "id": "82523359",
   "metadata": {},
   "outputs": [
    {
     "data": {
      "text/html": [
       "<div>\n",
       "<style scoped>\n",
       "    .dataframe tbody tr th:only-of-type {\n",
       "        vertical-align: middle;\n",
       "    }\n",
       "\n",
       "    .dataframe tbody tr th {\n",
       "        vertical-align: top;\n",
       "    }\n",
       "\n",
       "    .dataframe thead th {\n",
       "        text-align: right;\n",
       "    }\n",
       "</style>\n",
       "<table border=\"1\" class=\"dataframe\">\n",
       "  <thead>\n",
       "    <tr style=\"text-align: right;\">\n",
       "      <th></th>\n",
       "      <th>acct_id</th>\n",
       "      <th>region</th>\n",
       "    </tr>\n",
       "  </thead>\n",
       "  <tbody>\n",
       "    <tr>\n",
       "      <th>0</th>\n",
       "      <td>1</td>\n",
       "      <td>New York</td>\n",
       "    </tr>\n",
       "    <tr>\n",
       "      <th>1</th>\n",
       "      <td>2</td>\n",
       "      <td>Dallas</td>\n",
       "    </tr>\n",
       "    <tr>\n",
       "      <th>2</th>\n",
       "      <td>3</td>\n",
       "      <td>Los Angeles</td>\n",
       "    </tr>\n",
       "    <tr>\n",
       "      <th>3</th>\n",
       "      <td>4</td>\n",
       "      <td>Chicago</td>\n",
       "    </tr>\n",
       "    <tr>\n",
       "      <th>4</th>\n",
       "      <td>5</td>\n",
       "      <td>Philadelphia</td>\n",
       "    </tr>\n",
       "  </tbody>\n",
       "</table>\n",
       "</div>"
      ],
      "text/plain": [
       "   acct_id        region\n",
       "0        1      New York\n",
       "1        2        Dallas\n",
       "2        3   Los Angeles\n",
       "3        4       Chicago\n",
       "4        5  Philadelphia"
      ]
     },
     "execution_count": 78,
     "metadata": {},
     "output_type": "execute_result"
    }
   ],
   "source": [
    "#loading the region dataset\n",
    "df_region = pd.read_csv(r'C:\\Users\\Madhumitha\\Desktop\\region.csv')\n",
    "df_region.head()"
   ]
  },
  {
   "cell_type": "markdown",
   "id": "735a6eda",
   "metadata": {},
   "source": [
    "#### Merging the 2 datasets "
   ]
  },
  {
   "cell_type": "code",
   "execution_count": 79,
   "id": "eaef32f4",
   "metadata": {},
   "outputs": [
    {
     "data": {
      "text/html": [
       "<div>\n",
       "<style scoped>\n",
       "    .dataframe tbody tr th:only-of-type {\n",
       "        vertical-align: middle;\n",
       "    }\n",
       "\n",
       "    .dataframe tbody tr th {\n",
       "        vertical-align: top;\n",
       "    }\n",
       "\n",
       "    .dataframe thead th {\n",
       "        text-align: right;\n",
       "    }\n",
       "</style>\n",
       "<table border=\"1\" class=\"dataframe\">\n",
       "  <thead>\n",
       "    <tr style=\"text-align: right;\">\n",
       "      <th></th>\n",
       "      <th>acct_id</th>\n",
       "      <th>FICO</th>\n",
       "      <th>fico_score_rating</th>\n",
       "      <th>region</th>\n",
       "    </tr>\n",
       "  </thead>\n",
       "  <tbody>\n",
       "    <tr>\n",
       "      <th>0</th>\n",
       "      <td>1</td>\n",
       "      <td>768</td>\n",
       "      <td>Very Good</td>\n",
       "      <td>New York</td>\n",
       "    </tr>\n",
       "    <tr>\n",
       "      <th>1</th>\n",
       "      <td>2</td>\n",
       "      <td>850</td>\n",
       "      <td>Exceptional</td>\n",
       "      <td>Dallas</td>\n",
       "    </tr>\n",
       "    <tr>\n",
       "      <th>2</th>\n",
       "      <td>3</td>\n",
       "      <td>677</td>\n",
       "      <td>Good</td>\n",
       "      <td>Los Angeles</td>\n",
       "    </tr>\n",
       "    <tr>\n",
       "      <th>3</th>\n",
       "      <td>4</td>\n",
       "      <td>843</td>\n",
       "      <td>Exceptional</td>\n",
       "      <td>Chicago</td>\n",
       "    </tr>\n",
       "    <tr>\n",
       "      <th>4</th>\n",
       "      <td>5</td>\n",
       "      <td>796</td>\n",
       "      <td>Very Good</td>\n",
       "      <td>Philadelphia</td>\n",
       "    </tr>\n",
       "  </tbody>\n",
       "</table>\n",
       "</div>"
      ],
      "text/plain": [
       "   acct_id FICO fico_score_rating        region\n",
       "0        1  768         Very Good      New York\n",
       "1        2  850       Exceptional        Dallas\n",
       "2        3  677              Good   Los Angeles\n",
       "3        4  843       Exceptional       Chicago\n",
       "4        5  796         Very Good  Philadelphia"
      ]
     },
     "execution_count": 79,
     "metadata": {},
     "output_type": "execute_result"
    }
   ],
   "source": [
    "#merging the 2 datasets using inner join using accound id as the common column\n",
    "df = pd.merge(df_fico, df_region, on = \"acct_id\", how = \"inner\")\n",
    "df.head()"
   ]
  },
  {
   "cell_type": "code",
   "execution_count": 80,
   "id": "3220f30c",
   "metadata": {},
   "outputs": [
    {
     "data": {
      "text/html": [
       "<div>\n",
       "<style scoped>\n",
       "    .dataframe tbody tr th:only-of-type {\n",
       "        vertical-align: middle;\n",
       "    }\n",
       "\n",
       "    .dataframe tbody tr th {\n",
       "        vertical-align: top;\n",
       "    }\n",
       "\n",
       "    .dataframe thead th {\n",
       "        text-align: right;\n",
       "    }\n",
       "</style>\n",
       "<table border=\"1\" class=\"dataframe\">\n",
       "  <thead>\n",
       "    <tr style=\"text-align: right;\">\n",
       "      <th></th>\n",
       "      <th>acct_id</th>\n",
       "      <th>FICO</th>\n",
       "      <th>fico_score_rating</th>\n",
       "      <th>region</th>\n",
       "    </tr>\n",
       "  </thead>\n",
       "  <tbody>\n",
       "    <tr>\n",
       "      <th>0</th>\n",
       "      <td>1</td>\n",
       "      <td>768</td>\n",
       "      <td>Very Good</td>\n",
       "      <td>New York</td>\n",
       "    </tr>\n",
       "    <tr>\n",
       "      <th>1</th>\n",
       "      <td>2</td>\n",
       "      <td>850</td>\n",
       "      <td>Exceptional</td>\n",
       "      <td>Dallas</td>\n",
       "    </tr>\n",
       "    <tr>\n",
       "      <th>2</th>\n",
       "      <td>3</td>\n",
       "      <td>677</td>\n",
       "      <td>Good</td>\n",
       "      <td>Los Angeles</td>\n",
       "    </tr>\n",
       "    <tr>\n",
       "      <th>3</th>\n",
       "      <td>4</td>\n",
       "      <td>843</td>\n",
       "      <td>Exceptional</td>\n",
       "      <td>Chicago</td>\n",
       "    </tr>\n",
       "    <tr>\n",
       "      <th>4</th>\n",
       "      <td>5</td>\n",
       "      <td>796</td>\n",
       "      <td>Very Good</td>\n",
       "      <td>Philadelphia</td>\n",
       "    </tr>\n",
       "    <tr>\n",
       "      <th>...</th>\n",
       "      <td>...</td>\n",
       "      <td>...</td>\n",
       "      <td>...</td>\n",
       "      <td>...</td>\n",
       "    </tr>\n",
       "    <tr>\n",
       "      <th>100181</th>\n",
       "      <td>99996</td>\n",
       "      <td>Missing</td>\n",
       "      <td>Missing</td>\n",
       "      <td>Chicago</td>\n",
       "    </tr>\n",
       "    <tr>\n",
       "      <th>100182</th>\n",
       "      <td>99997</td>\n",
       "      <td>Missing</td>\n",
       "      <td>Missing</td>\n",
       "      <td>New York</td>\n",
       "    </tr>\n",
       "    <tr>\n",
       "      <th>100183</th>\n",
       "      <td>99998</td>\n",
       "      <td>Missing</td>\n",
       "      <td>Missing</td>\n",
       "      <td>San Diego</td>\n",
       "    </tr>\n",
       "    <tr>\n",
       "      <th>100184</th>\n",
       "      <td>99999</td>\n",
       "      <td>Missing</td>\n",
       "      <td>Missing</td>\n",
       "      <td>Chicago</td>\n",
       "    </tr>\n",
       "    <tr>\n",
       "      <th>100185</th>\n",
       "      <td>100000</td>\n",
       "      <td>Missing</td>\n",
       "      <td>Missing</td>\n",
       "      <td>Dallas</td>\n",
       "    </tr>\n",
       "  </tbody>\n",
       "</table>\n",
       "<p>100186 rows × 4 columns</p>\n",
       "</div>"
      ],
      "text/plain": [
       "        acct_id     FICO fico_score_rating        region\n",
       "0             1      768         Very Good      New York\n",
       "1             2      850       Exceptional        Dallas\n",
       "2             3      677              Good   Los Angeles\n",
       "3             4      843       Exceptional       Chicago\n",
       "4             5      796         Very Good  Philadelphia\n",
       "...         ...      ...               ...           ...\n",
       "100181    99996  Missing           Missing       Chicago\n",
       "100182    99997  Missing           Missing      New York\n",
       "100183    99998  Missing           Missing     San Diego\n",
       "100184    99999  Missing           Missing       Chicago\n",
       "100185   100000  Missing           Missing        Dallas\n",
       "\n",
       "[100186 rows x 4 columns]"
      ]
     },
     "execution_count": 80,
     "metadata": {},
     "output_type": "execute_result"
    }
   ],
   "source": [
    "df"
   ]
  },
  {
   "cell_type": "markdown",
   "id": "0ad51f65",
   "metadata": {},
   "source": [
    "Now, I have to group the dataset by region, which basically means I have to gather the count of regions. For that, I need numeric values for counting. But, the dataset has several rows which have the string \"Missing\" in place of actual missing/wrong data. Hence, I have to drop the missing values in order to proceed with only numeric values for the grouping. "
   ]
  },
  {
   "cell_type": "code",
   "execution_count": 81,
   "id": "2562da8a",
   "metadata": {},
   "outputs": [
    {
     "data": {
      "text/html": [
       "<div>\n",
       "<style scoped>\n",
       "    .dataframe tbody tr th:only-of-type {\n",
       "        vertical-align: middle;\n",
       "    }\n",
       "\n",
       "    .dataframe tbody tr th {\n",
       "        vertical-align: top;\n",
       "    }\n",
       "\n",
       "    .dataframe thead th {\n",
       "        text-align: right;\n",
       "    }\n",
       "</style>\n",
       "<table border=\"1\" class=\"dataframe\">\n",
       "  <thead>\n",
       "    <tr style=\"text-align: right;\">\n",
       "      <th></th>\n",
       "      <th>acct_id</th>\n",
       "      <th>FICO</th>\n",
       "      <th>fico_score_rating</th>\n",
       "      <th>region</th>\n",
       "    </tr>\n",
       "  </thead>\n",
       "  <tbody>\n",
       "    <tr>\n",
       "      <th>0</th>\n",
       "      <td>1</td>\n",
       "      <td>768</td>\n",
       "      <td>Very Good</td>\n",
       "      <td>New York</td>\n",
       "    </tr>\n",
       "    <tr>\n",
       "      <th>1</th>\n",
       "      <td>2</td>\n",
       "      <td>850</td>\n",
       "      <td>Exceptional</td>\n",
       "      <td>Dallas</td>\n",
       "    </tr>\n",
       "    <tr>\n",
       "      <th>2</th>\n",
       "      <td>3</td>\n",
       "      <td>677</td>\n",
       "      <td>Good</td>\n",
       "      <td>Los Angeles</td>\n",
       "    </tr>\n",
       "    <tr>\n",
       "      <th>3</th>\n",
       "      <td>4</td>\n",
       "      <td>843</td>\n",
       "      <td>Exceptional</td>\n",
       "      <td>Chicago</td>\n",
       "    </tr>\n",
       "    <tr>\n",
       "      <th>4</th>\n",
       "      <td>5</td>\n",
       "      <td>796</td>\n",
       "      <td>Very Good</td>\n",
       "      <td>Philadelphia</td>\n",
       "    </tr>\n",
       "    <tr>\n",
       "      <th>...</th>\n",
       "      <td>...</td>\n",
       "      <td>...</td>\n",
       "      <td>...</td>\n",
       "      <td>...</td>\n",
       "    </tr>\n",
       "    <tr>\n",
       "      <th>100171</th>\n",
       "      <td>99986</td>\n",
       "      <td>836</td>\n",
       "      <td>Exceptional</td>\n",
       "      <td>Phoenix</td>\n",
       "    </tr>\n",
       "    <tr>\n",
       "      <th>100172</th>\n",
       "      <td>99987</td>\n",
       "      <td>850</td>\n",
       "      <td>Exceptional</td>\n",
       "      <td>Los Angeles</td>\n",
       "    </tr>\n",
       "    <tr>\n",
       "      <th>100174</th>\n",
       "      <td>99989</td>\n",
       "      <td>850</td>\n",
       "      <td>Exceptional</td>\n",
       "      <td>Los Angeles</td>\n",
       "    </tr>\n",
       "    <tr>\n",
       "      <th>100175</th>\n",
       "      <td>99990</td>\n",
       "      <td>830</td>\n",
       "      <td>Exceptional</td>\n",
       "      <td>Chicago</td>\n",
       "    </tr>\n",
       "    <tr>\n",
       "      <th>100177</th>\n",
       "      <td>99992</td>\n",
       "      <td>850</td>\n",
       "      <td>Exceptional</td>\n",
       "      <td>Los Angeles</td>\n",
       "    </tr>\n",
       "  </tbody>\n",
       "</table>\n",
       "<p>70569 rows × 4 columns</p>\n",
       "</div>"
      ],
      "text/plain": [
       "        acct_id FICO fico_score_rating        region\n",
       "0             1  768         Very Good      New York\n",
       "1             2  850       Exceptional        Dallas\n",
       "2             3  677              Good   Los Angeles\n",
       "3             4  843       Exceptional       Chicago\n",
       "4             5  796         Very Good  Philadelphia\n",
       "...         ...  ...               ...           ...\n",
       "100171    99986  836       Exceptional       Phoenix\n",
       "100172    99987  850       Exceptional   Los Angeles\n",
       "100174    99989  850       Exceptional   Los Angeles\n",
       "100175    99990  830       Exceptional       Chicago\n",
       "100177    99992  850       Exceptional   Los Angeles\n",
       "\n",
       "[70569 rows x 4 columns]"
      ]
     },
     "execution_count": 81,
     "metadata": {},
     "output_type": "execute_result"
    }
   ],
   "source": [
    "#removing columns which have Missing as data\n",
    "\n",
    "df = df[df.FICO != \"Missing\"]\n",
    "df"
   ]
  },
  {
   "cell_type": "code",
   "execution_count": 82,
   "id": "b0d4d135",
   "metadata": {},
   "outputs": [
    {
     "data": {
      "text/html": [
       "<div>\n",
       "<style scoped>\n",
       "    .dataframe tbody tr th:only-of-type {\n",
       "        vertical-align: middle;\n",
       "    }\n",
       "\n",
       "    .dataframe tbody tr th {\n",
       "        vertical-align: top;\n",
       "    }\n",
       "\n",
       "    .dataframe thead th {\n",
       "        text-align: right;\n",
       "    }\n",
       "</style>\n",
       "<table border=\"1\" class=\"dataframe\">\n",
       "  <thead>\n",
       "    <tr style=\"text-align: right;\">\n",
       "      <th></th>\n",
       "      <th>acct_id</th>\n",
       "    </tr>\n",
       "    <tr>\n",
       "      <th>region</th>\n",
       "      <th></th>\n",
       "    </tr>\n",
       "  </thead>\n",
       "  <tbody>\n",
       "    <tr>\n",
       "      <th>Charlotte</th>\n",
       "      <td>50320.351572</td>\n",
       "    </tr>\n",
       "    <tr>\n",
       "      <th>Chicago</th>\n",
       "      <td>49715.979795</td>\n",
       "    </tr>\n",
       "    <tr>\n",
       "      <th>Dallas</th>\n",
       "      <td>50248.634126</td>\n",
       "    </tr>\n",
       "    <tr>\n",
       "      <th>Houston</th>\n",
       "      <td>50403.689499</td>\n",
       "    </tr>\n",
       "    <tr>\n",
       "      <th>Los Angeles</th>\n",
       "      <td>50400.585609</td>\n",
       "    </tr>\n",
       "    <tr>\n",
       "      <th>New York</th>\n",
       "      <td>50166.915877</td>\n",
       "    </tr>\n",
       "    <tr>\n",
       "      <th>Philadelphia</th>\n",
       "      <td>50413.253596</td>\n",
       "    </tr>\n",
       "    <tr>\n",
       "      <th>Phoenix</th>\n",
       "      <td>50969.407724</td>\n",
       "    </tr>\n",
       "    <tr>\n",
       "      <th>San Antonio</th>\n",
       "      <td>50401.320351</td>\n",
       "    </tr>\n",
       "    <tr>\n",
       "      <th>San Diego</th>\n",
       "      <td>49570.958831</td>\n",
       "    </tr>\n",
       "  </tbody>\n",
       "</table>\n",
       "</div>"
      ],
      "text/plain": [
       "                   acct_id\n",
       "region                    \n",
       "Charlotte     50320.351572\n",
       "Chicago       49715.979795\n",
       "Dallas        50248.634126\n",
       "Houston       50403.689499\n",
       "Los Angeles   50400.585609\n",
       "New York      50166.915877\n",
       "Philadelphia  50413.253596\n",
       "Phoenix       50969.407724\n",
       "San Antonio   50401.320351\n",
       "San Diego     49570.958831"
      ]
     },
     "execution_count": 82,
     "metadata": {},
     "output_type": "execute_result"
    }
   ],
   "source": [
    "#grouping using the groupby function and getting the mean of FICO\n",
    "group = df.groupby('region').mean()\n",
    "group"
   ]
  },
  {
   "cell_type": "markdown",
   "id": "887f2d84",
   "metadata": {},
   "source": [
    "We got the mean of acct_id instead of FICO! Looks like there was some problem in calculating the mean. Let me check the data type of the FICO column."
   ]
  },
  {
   "cell_type": "code",
   "execution_count": 83,
   "id": "925687bd",
   "metadata": {},
   "outputs": [
    {
     "name": "stdout",
     "output_type": "stream",
     "text": [
      "<class 'pandas.core.frame.DataFrame'>\n",
      "Int64Index: 70569 entries, 0 to 100177\n",
      "Data columns (total 4 columns):\n",
      " #   Column             Non-Null Count  Dtype \n",
      "---  ------             --------------  ----- \n",
      " 0   acct_id            70569 non-null  int64 \n",
      " 1   FICO               70569 non-null  object\n",
      " 2   fico_score_rating  70569 non-null  object\n",
      " 3   region             70569 non-null  object\n",
      "dtypes: int64(1), object(3)\n",
      "memory usage: 2.7+ MB\n"
     ]
    }
   ],
   "source": [
    "df.info()"
   ]
  },
  {
   "cell_type": "markdown",
   "id": "0d0a04aa",
   "metadata": {},
   "source": [
    "The datatype is object, that is why mean could not be calculated. So, I'll convert to integer data type."
   ]
  },
  {
   "cell_type": "code",
   "execution_count": 84,
   "id": "8960488b",
   "metadata": {},
   "outputs": [
    {
     "name": "stdout",
     "output_type": "stream",
     "text": [
      "<class 'pandas.core.frame.DataFrame'>\n",
      "Int64Index: 70569 entries, 0 to 100177\n",
      "Data columns (total 4 columns):\n",
      " #   Column             Non-Null Count  Dtype \n",
      "---  ------             --------------  ----- \n",
      " 0   acct_id            70569 non-null  int64 \n",
      " 1   FICO               70569 non-null  int64 \n",
      " 2   fico_score_rating  70569 non-null  object\n",
      " 3   region             70569 non-null  object\n",
      "dtypes: int64(2), object(2)\n",
      "memory usage: 2.7+ MB\n"
     ]
    },
    {
     "name": "stderr",
     "output_type": "stream",
     "text": [
      "<ipython-input-84-b9870e44a148>:1: SettingWithCopyWarning: \n",
      "A value is trying to be set on a copy of a slice from a DataFrame.\n",
      "Try using .loc[row_indexer,col_indexer] = value instead\n",
      "\n",
      "See the caveats in the documentation: https://pandas.pydata.org/pandas-docs/stable/user_guide/indexing.html#returning-a-view-versus-a-copy\n",
      "  df[\"FICO\"] = pd.to_numeric(df[\"FICO\"])\n"
     ]
    }
   ],
   "source": [
    "df[\"FICO\"] = pd.to_numeric(df[\"FICO\"])\n",
    "df.info()"
   ]
  },
  {
   "cell_type": "code",
   "execution_count": 85,
   "id": "cb01aec9",
   "metadata": {},
   "outputs": [
    {
     "data": {
      "text/html": [
       "<div>\n",
       "<style scoped>\n",
       "    .dataframe tbody tr th:only-of-type {\n",
       "        vertical-align: middle;\n",
       "    }\n",
       "\n",
       "    .dataframe tbody tr th {\n",
       "        vertical-align: top;\n",
       "    }\n",
       "\n",
       "    .dataframe thead th {\n",
       "        text-align: right;\n",
       "    }\n",
       "</style>\n",
       "<table border=\"1\" class=\"dataframe\">\n",
       "  <thead>\n",
       "    <tr style=\"text-align: right;\">\n",
       "      <th></th>\n",
       "      <th>acct_id</th>\n",
       "      <th>FICO</th>\n",
       "    </tr>\n",
       "    <tr>\n",
       "      <th>region</th>\n",
       "      <th></th>\n",
       "      <th></th>\n",
       "    </tr>\n",
       "  </thead>\n",
       "  <tbody>\n",
       "    <tr>\n",
       "      <th>Phoenix</th>\n",
       "      <td>50969.407724</td>\n",
       "      <td>788.156762</td>\n",
       "    </tr>\n",
       "    <tr>\n",
       "      <th>Houston</th>\n",
       "      <td>50403.689499</td>\n",
       "      <td>786.007501</td>\n",
       "    </tr>\n",
       "    <tr>\n",
       "      <th>Philadelphia</th>\n",
       "      <td>50413.253596</td>\n",
       "      <td>785.783084</td>\n",
       "    </tr>\n",
       "    <tr>\n",
       "      <th>Los Angeles</th>\n",
       "      <td>50400.585609</td>\n",
       "      <td>785.694113</td>\n",
       "    </tr>\n",
       "    <tr>\n",
       "      <th>Chicago</th>\n",
       "      <td>49715.979795</td>\n",
       "      <td>785.638187</td>\n",
       "    </tr>\n",
       "    <tr>\n",
       "      <th>Charlotte</th>\n",
       "      <td>50320.351572</td>\n",
       "      <td>785.154280</td>\n",
       "    </tr>\n",
       "    <tr>\n",
       "      <th>New York</th>\n",
       "      <td>50166.915877</td>\n",
       "      <td>785.081154</td>\n",
       "    </tr>\n",
       "    <tr>\n",
       "      <th>San Antonio</th>\n",
       "      <td>50401.320351</td>\n",
       "      <td>784.508277</td>\n",
       "    </tr>\n",
       "    <tr>\n",
       "      <th>San Diego</th>\n",
       "      <td>49570.958831</td>\n",
       "      <td>784.081618</td>\n",
       "    </tr>\n",
       "    <tr>\n",
       "      <th>Dallas</th>\n",
       "      <td>50248.634126</td>\n",
       "      <td>782.102021</td>\n",
       "    </tr>\n",
       "  </tbody>\n",
       "</table>\n",
       "</div>"
      ],
      "text/plain": [
       "                   acct_id        FICO\n",
       "region                                \n",
       "Phoenix       50969.407724  788.156762\n",
       "Houston       50403.689499  786.007501\n",
       "Philadelphia  50413.253596  785.783084\n",
       "Los Angeles   50400.585609  785.694113\n",
       "Chicago       49715.979795  785.638187\n",
       "Charlotte     50320.351572  785.154280\n",
       "New York      50166.915877  785.081154\n",
       "San Antonio   50401.320351  784.508277\n",
       "San Diego     49570.958831  784.081618\n",
       "Dallas        50248.634126  782.102021"
      ]
     },
     "execution_count": 85,
     "metadata": {},
     "output_type": "execute_result"
    }
   ],
   "source": [
    "#grouping region-wise and calucating the mean and ordering in descending order\n",
    "group = df.groupby('region').mean()\n",
    "group = group.sort_values('FICO', ascending = False)\n",
    "group"
   ]
  },
  {
   "cell_type": "markdown",
   "id": "3a4705b6",
   "metadata": {},
   "source": [
    "The task mentions that only the region and FICO should be displayed so I am dropping the acc_id column."
   ]
  },
  {
   "cell_type": "code",
   "execution_count": 86,
   "id": "e451e0a1",
   "metadata": {},
   "outputs": [
    {
     "data": {
      "text/html": [
       "<div>\n",
       "<style scoped>\n",
       "    .dataframe tbody tr th:only-of-type {\n",
       "        vertical-align: middle;\n",
       "    }\n",
       "\n",
       "    .dataframe tbody tr th {\n",
       "        vertical-align: top;\n",
       "    }\n",
       "\n",
       "    .dataframe thead th {\n",
       "        text-align: right;\n",
       "    }\n",
       "</style>\n",
       "<table border=\"1\" class=\"dataframe\">\n",
       "  <thead>\n",
       "    <tr style=\"text-align: right;\">\n",
       "      <th></th>\n",
       "      <th>FICO</th>\n",
       "    </tr>\n",
       "    <tr>\n",
       "      <th>region</th>\n",
       "      <th></th>\n",
       "    </tr>\n",
       "  </thead>\n",
       "  <tbody>\n",
       "    <tr>\n",
       "      <th>Phoenix</th>\n",
       "      <td>788.156762</td>\n",
       "    </tr>\n",
       "    <tr>\n",
       "      <th>Houston</th>\n",
       "      <td>786.007501</td>\n",
       "    </tr>\n",
       "    <tr>\n",
       "      <th>Philadelphia</th>\n",
       "      <td>785.783084</td>\n",
       "    </tr>\n",
       "    <tr>\n",
       "      <th>Los Angeles</th>\n",
       "      <td>785.694113</td>\n",
       "    </tr>\n",
       "    <tr>\n",
       "      <th>Chicago</th>\n",
       "      <td>785.638187</td>\n",
       "    </tr>\n",
       "    <tr>\n",
       "      <th>Charlotte</th>\n",
       "      <td>785.154280</td>\n",
       "    </tr>\n",
       "    <tr>\n",
       "      <th>New York</th>\n",
       "      <td>785.081154</td>\n",
       "    </tr>\n",
       "    <tr>\n",
       "      <th>San Antonio</th>\n",
       "      <td>784.508277</td>\n",
       "    </tr>\n",
       "    <tr>\n",
       "      <th>San Diego</th>\n",
       "      <td>784.081618</td>\n",
       "    </tr>\n",
       "    <tr>\n",
       "      <th>Dallas</th>\n",
       "      <td>782.102021</td>\n",
       "    </tr>\n",
       "  </tbody>\n",
       "</table>\n",
       "</div>"
      ],
      "text/plain": [
       "                    FICO\n",
       "region                  \n",
       "Phoenix       788.156762\n",
       "Houston       786.007501\n",
       "Philadelphia  785.783084\n",
       "Los Angeles   785.694113\n",
       "Chicago       785.638187\n",
       "Charlotte     785.154280\n",
       "New York      785.081154\n",
       "San Antonio   784.508277\n",
       "San Diego     784.081618\n",
       "Dallas        782.102021"
      ]
     },
     "execution_count": 86,
     "metadata": {},
     "output_type": "execute_result"
    }
   ],
   "source": [
    "#dropping the acct_id column\n",
    "group.drop(columns = 'acct_id', inplace = True)\n",
    "group"
   ]
  }
 ],
 "metadata": {
  "kernelspec": {
   "display_name": "Python 3",
   "language": "python",
   "name": "python3"
  },
  "language_info": {
   "codemirror_mode": {
    "name": "ipython",
    "version": 3
   },
   "file_extension": ".py",
   "mimetype": "text/x-python",
   "name": "python",
   "nbconvert_exporter": "python",
   "pygments_lexer": "ipython3",
   "version": "3.8.8"
  }
 },
 "nbformat": 4,
 "nbformat_minor": 5
}
